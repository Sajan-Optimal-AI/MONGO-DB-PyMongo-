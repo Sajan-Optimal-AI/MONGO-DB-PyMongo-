{
 "cells": [
  {
   "cell_type": "code",
   "execution_count": 1,
   "id": "ee4046ee",
   "metadata": {},
   "outputs": [
    {
     "name": "stdout",
     "output_type": "stream",
     "text": [
      "Collecting pymongo\n",
      "  Downloading pymongo-4.0-cp38-cp38-win_amd64.whl (354 kB)\n",
      "Installing collected packages: pymongo\n",
      "Successfully installed pymongo-4.0\n"
     ]
    }
   ],
   "source": [
    "!pip install pymongo"
   ]
  },
  {
   "cell_type": "code",
   "execution_count": 3,
   "id": "6a141f01",
   "metadata": {},
   "outputs": [],
   "source": [
    "import pymongo"
   ]
  },
  {
   "cell_type": "code",
   "execution_count": 4,
   "id": "c3c8c7b7",
   "metadata": {},
   "outputs": [],
   "source": [
    "client = pymongo.MongoClient('mongodb://127.0.0.1:27017/')"
   ]
  },
  {
   "cell_type": "code",
   "execution_count": 5,
   "id": "e1c01c16",
   "metadata": {},
   "outputs": [
    {
     "name": "stdout",
     "output_type": "stream",
     "text": [
      "['Sajan', 'admin', 'config', 'local']\n"
     ]
    }
   ],
   "source": [
    "print(client.list_database_names())"
   ]
  },
  {
   "cell_type": "code",
   "execution_count": 6,
   "id": "dab62505",
   "metadata": {},
   "outputs": [],
   "source": [
    "mydb = client['Sajan']"
   ]
  },
  {
   "cell_type": "code",
   "execution_count": 7,
   "id": "7419929d",
   "metadata": {},
   "outputs": [],
   "source": [
    "Records = mydb.table1"
   ]
  },
  {
   "cell_type": "code",
   "execution_count": 8,
   "id": "a24d9944",
   "metadata": {},
   "outputs": [],
   "source": [
    "record1 = {\"Name\":\"pon\",\"Nationality\":\"Indian\"}"
   ]
  },
  {
   "cell_type": "code",
   "execution_count": 9,
   "id": "f65dc153",
   "metadata": {},
   "outputs": [
    {
     "data": {
      "text/plain": [
       "<pymongo.results.InsertOneResult at 0x1c14e904700>"
      ]
     },
     "execution_count": 9,
     "metadata": {},
     "output_type": "execute_result"
    }
   ],
   "source": [
    "Records.insert_one(record1)"
   ]
  },
  {
   "cell_type": "markdown",
   "id": "b951b4b8",
   "metadata": {},
   "source": [
    "INSERTING JSON DOCUMENT"
   ]
  },
  {
   "cell_type": "code",
   "execution_count": 10,
   "id": "abea18c6",
   "metadata": {},
   "outputs": [],
   "source": [
    "record2 = [{\"Name\":\"Sajan\",\"Nationality\":\"Indian\"},\n",
    "          {\"Name\":\"Sarath\",\"Nationality\":\"American\",\"Age\":\"25\"},\n",
    "          {\"Name\":\"Arul\",\"Nationality\":\"Australian\",\"Age\":\"30\"}]"
   ]
  },
  {
   "cell_type": "code",
   "execution_count": 11,
   "id": "ad2c4035",
   "metadata": {},
   "outputs": [
    {
     "data": {
      "text/plain": [
       "<pymongo.results.InsertManyResult at 0x1c14e33dfc0>"
      ]
     },
     "execution_count": 11,
     "metadata": {},
     "output_type": "execute_result"
    }
   ],
   "source": [
    "Records.insert_many(record2)"
   ]
  },
  {
   "cell_type": "markdown",
   "id": "d8390f36",
   "metadata": {},
   "source": [
    "INSERT VIDEO FILE"
   ]
  },
  {
   "cell_type": "code",
   "execution_count": 12,
   "id": "3a397584",
   "metadata": {},
   "outputs": [],
   "source": [
    "import gridfs"
   ]
  },
  {
   "cell_type": "code",
   "execution_count": 16,
   "id": "2f9ec38a",
   "metadata": {},
   "outputs": [
    {
     "name": "stdout",
     "output_type": "stream",
     "text": [
      "upload complete\n"
     ]
    }
   ],
   "source": [
    "name = \"C:/Users/Welcome/Videos/Captures/Video.mp4\"\n",
    "filedata = open(name,\"rb\")\n",
    "data = filedata.read()\n",
    "fs = gridfs.GridFS(mydb)\n",
    "fs.put(data,filename=name)\n",
    "print(\"upload complete\")"
   ]
  },
  {
   "cell_type": "markdown",
   "id": "c399c783",
   "metadata": {},
   "source": [
    "DOWNLOAD VIDEO FILE"
   ]
  },
  {
   "cell_type": "code",
   "execution_count": 19,
   "id": "c35949f2",
   "metadata": {},
   "outputs": [
    {
     "name": "stdout",
     "output_type": "stream",
     "text": [
      "{'_id': ObjectId('61ae1b66f7df8c90fb3c9292'), 'filename': 'C:/Users/Welcome/Videos/Captures/Video.mp4', 'chunkSize': 261120, 'length': 6344702, 'uploadDate': datetime.datetime(2021, 12, 6, 14, 17, 10, 940000)}\n"
     ]
    }
   ],
   "source": [
    "name_of_file = \"C:/Users/Welcome/Videos/Captures/Video.mp4\"\n",
    "data = mydb.fs.files.find_one({\"filename\":name_of_file})\n",
    "print(data)"
   ]
  },
  {
   "cell_type": "code",
   "execution_count": 20,
   "id": "18db6df3",
   "metadata": {},
   "outputs": [
    {
     "name": "stdout",
     "output_type": "stream",
     "text": [
      "download complete\n"
     ]
    }
   ],
   "source": [
    "my_id = data['_id']\n",
    "outputdata = fs.get(my_id).read()\n",
    "output=open(\"new_video.mp4\",\"wb\")\n",
    "output.write(outputdata)\n",
    "output.close()\n",
    "print(\"download complete\")"
   ]
  },
  {
   "cell_type": "code",
   "execution_count": null,
   "id": "35f0e2f1",
   "metadata": {},
   "outputs": [],
   "source": []
  },
  {
   "cell_type": "code",
   "execution_count": null,
   "id": "5639d972",
   "metadata": {},
   "outputs": [],
   "source": []
  },
  {
   "cell_type": "code",
   "execution_count": null,
   "id": "36faed19",
   "metadata": {},
   "outputs": [],
   "source": []
  },
  {
   "cell_type": "code",
   "execution_count": null,
   "id": "b0f1f1f7",
   "metadata": {},
   "outputs": [],
   "source": []
  }
 ],
 "metadata": {
  "kernelspec": {
   "display_name": "Python 3",
   "language": "python",
   "name": "python3"
  },
  "language_info": {
   "codemirror_mode": {
    "name": "ipython",
    "version": 3
   },
   "file_extension": ".py",
   "mimetype": "text/x-python",
   "name": "python",
   "nbconvert_exporter": "python",
   "pygments_lexer": "ipython3",
   "version": "3.8.8"
  }
 },
 "nbformat": 4,
 "nbformat_minor": 5
}
